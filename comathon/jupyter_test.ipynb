{
 "cells": [
  {
   "cell_type": "code",
   "execution_count": null,
   "metadata": {},
   "outputs": [],
   "source": [
    "print(\"hello world2\")"
   ]
  },
  {
   "cell_type": "code",
   "execution_count": 18,
   "metadata": {},
   "outputs": [],
   "source": [
    "import comathon as cmt\n",
    "import requests\n",
    "import pyupbit"
   ]
  },
  {
   "cell_type": "code",
   "execution_count": null,
   "metadata": {},
   "outputs": [],
   "source": [
    "# pyupbit.get_tickers()\n",
    "cmt.get_tickers()\n",
    "cmt.get_ohlcv(\"KRW-BTC\")\n",
    "cmt.get_current_price(\"KRW-BTC\")"
   ]
  },
  {
   "cell_type": "code",
   "execution_count": 15,
   "metadata": {},
   "outputs": [
    {
     "name": "stdout",
     "output_type": "stream",
     "text": [
      "Number of Users :  2\n",
      "User ID :  test001\n",
      "Access Key :  DplIC0dHKeVVjr9RtRhJskZD2xVTkxdQtHno6BpO\n",
      "Secret Key :  6xV4OlFjLv7P8PoHyuOrRgE1Qk1kmnEfB8Mmzmh4\n",
      "test001 Balance :  432656.05034477\n",
      "User ID :  test002\n",
      "Access Key :  PBJJMdbWmo1r58HTbiwDMfoYjft1f49Mb7KYlpTZ\n",
      "Secret Key :  nkN6sMNqUE7rj0WfLIjnY9XCXx5yCfQFvwCcuD3c\n",
      "test002 Balance :  45599.4058601\n"
     ]
    }
   ],
   "source": [
    "cmt.buy_market_order(\"KRW-ATOM\", 5000)"
   ]
  },
  {
   "cell_type": "code",
   "execution_count": 16,
   "metadata": {},
   "outputs": [
    {
     "name": "stdout",
     "output_type": "stream",
     "text": [
      "Number of Users :  2\n",
      "User ID :  test001\n",
      "Access Key :  DplIC0dHKeVVjr9RtRhJskZD2xVTkxdQtHno6BpO\n",
      "Secret Key :  6xV4OlFjLv7P8PoHyuOrRgE1Qk1kmnEfB8Mmzmh4\n",
      "test001 Balance :  427653.55036117\n",
      "User ID :  test002\n",
      "Access Key :  PBJJMdbWmo1r58HTbiwDMfoYjft1f49Mb7KYlpTZ\n",
      "Secret Key :  nkN6sMNqUE7rj0WfLIjnY9XCXx5yCfQFvwCcuD3c\n",
      "test002 Balance :  40596.90587651\n"
     ]
    }
   ],
   "source": [
    "cmt.sell_market_order(\"KRW-ATOM\", 0.5)"
   ]
  },
  {
   "cell_type": "code",
   "execution_count": null,
   "metadata": {},
   "outputs": [],
   "source": [
    "url = \"http://121.137.95.97:8888/BotList\"\n",
    "response = requests.get(url)\n",
    "print(response.json())\n",
    "\n"
   ]
  },
  {
   "cell_type": "code",
   "execution_count": null,
   "metadata": {},
   "outputs": [],
   "source": [
    "url = \"http://121.137.95.97:8888/BotWithinUserList?botid=BOT002\"\n",
    "response = requests.get(url)\n",
    "print(response.json())"
   ]
  },
  {
   "cell_type": "code",
   "execution_count": null,
   "metadata": {},
   "outputs": [],
   "source": []
  }
 ],
 "metadata": {
  "kernelspec": {
   "display_name": "Python 3.9.0 64-bit",
   "language": "python",
   "name": "python3"
  },
  "language_info": {
   "codemirror_mode": {
    "name": "ipython",
    "version": 3
   },
   "file_extension": ".py",
   "mimetype": "text/x-python",
   "name": "python",
   "nbconvert_exporter": "python",
   "pygments_lexer": "ipython3",
   "version": "3.9.0"
  },
  "orig_nbformat": 4,
  "vscode": {
   "interpreter": {
    "hash": "81794d4967e6c3204c66dcd87b604927b115b27c00565d3d43f05ba2f3a2cb0d"
   }
  }
 },
 "nbformat": 4,
 "nbformat_minor": 2
}
