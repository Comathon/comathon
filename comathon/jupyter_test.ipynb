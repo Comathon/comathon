{
 "cells": [
  {
   "cell_type": "code",
   "execution_count": 1,
   "metadata": {},
   "outputs": [
    {
     "name": "stdout",
     "output_type": "stream",
     "text": [
      "hello world\n"
     ]
    }
   ],
   "source": [
    "print(\"hello world\")"
   ]
  },
  {
   "cell_type": "code",
   "execution_count": 2,
   "metadata": {},
   "outputs": [
    {
     "name": "stdout",
     "output_type": "stream",
     "text": [
      "Hello World\n"
     ]
    }
   ],
   "source": [
    "import comathon\n",
    "import requests"
   ]
  },
  {
   "cell_type": "code",
   "execution_count": 3,
   "metadata": {},
   "outputs": [
    {
     "name": "stdout",
     "output_type": "stream",
     "text": [
      "{'ResCode': 'OK', 'ResMsg': '정상처리', 'data': [{'botid': 'BOT001', 'createtime': '20220818092104', 'makerid': 'test001', 'name': '봇 1번(Piglet)', 'signed': False}, {'botid': 'BOT002', 'createtime': '20220818092108', 'makerid': 'tst002', 'name': '봇 2번', 'signed': False}]}\n"
     ]
    }
   ],
   "source": [
    "url = \"http://121.137.95.97:8888/BotList\"\n",
    "response = requests.get(url)\n",
    "print(response.json())\n",
    "\n"
   ]
  },
  {
   "cell_type": "code",
   "execution_count": 4,
   "metadata": {},
   "outputs": [
    {
     "name": "stdout",
     "output_type": "stream",
     "text": [
      "{'ResCode': 'OK', 'ResMsg': '정상처리', 'data': [{'apikey': 'PBJJMdbWmo1r58HTbiwDMfoYjft1f49Mb7KYlpTZ', 'botid': 'BOT002', 'investment': 200, 'percent': 40, 'securitykey': 'nkN6sMNqUE7rj0WfLIjnY9XCXx5yCfQFvwCcuD3c', 'userid': 'test002'}]}\n"
     ]
    }
   ],
   "source": [
    "url = \"http://121.137.95.97:8888/BotWithinUserList?botid=BOT002\"\n",
    "response = requests.get(url)\n",
    "print(response.json())"
   ]
  },
  {
   "cell_type": "code",
   "execution_count": null,
   "metadata": {},
   "outputs": [],
   "source": []
  }
 ],
 "metadata": {
  "kernelspec": {
   "display_name": "Python 3.9.12 ('cmt_env')",
   "language": "python",
   "name": "python3"
  },
  "language_info": {
   "codemirror_mode": {
    "name": "ipython",
    "version": 3
   },
   "file_extension": ".py",
   "mimetype": "text/x-python",
   "name": "python",
   "nbconvert_exporter": "python",
   "pygments_lexer": "ipython3",
   "version": "3.9.12"
  },
  "orig_nbformat": 4,
  "vscode": {
   "interpreter": {
    "hash": "0454d5765c86a4f8924a3efe579beb525d10626a53ac24eea27667d32541984c"
   }
  }
 },
 "nbformat": 4,
 "nbformat_minor": 2
}
